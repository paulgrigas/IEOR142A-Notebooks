{
 "cells": [
  {
   "cell_type": "code",
   "execution_count": 1,
   "metadata": {},
   "outputs": [],
   "source": [
    "import numpy as np\n",
    "import pandas as pd\n",
    "import matplotlib.pyplot as plt"
   ]
  },
  {
   "cell_type": "code",
   "execution_count": 2,
   "metadata": {},
   "outputs": [],
   "source": [
    "import numpy as np\n",
    "import bootstrapped.bootstrap as bs\n",
    "import bootstrapped.stats_functions as bs_stats"
   ]
  },
  {
   "cell_type": "markdown",
   "metadata": {},
   "source": [
    "# 1. Boostrap basics"
   ]
  },
  {
   "cell_type": "code",
   "execution_count": 6,
   "metadata": {},
   "outputs": [],
   "source": [
    "np.random.seed(30)\n",
    "normal_data = np.random.normal(4, 1.5, 50)"
   ]
  },
  {
   "cell_type": "markdown",
   "metadata": {},
   "source": [
    "To the best of the GSIs' knowledge, there is no perfect package for boostrap validation in `Python`. Therefore, the function below is a simple manual implementation of the bootstrap. Note that there is nothing tricky in the code below and you are encouraged to try the implementation on your own. It is actually a required exercise for statistics majors.\n",
    "\n",
    "For `R` users, a package that is widely used for bootstrapping in `R` is `boot`. "
   ]
  },
  {
   "cell_type": "code",
   "execution_count": 7,
   "metadata": {},
   "outputs": [],
   "source": [
    "def bootstrap(data, metrics,sample =500, random_state=123):\n",
    "    output_array=np.zeros(sample)\n",
    "    output_array[:]=np.nan\n",
    "    for i in range(sample):\n",
    "        bs_data = np.random.choice(data, len(data), replace=True)\n",
    "        output_array[i] = metrics(bs_data)\n",
    "    return output_array"
   ]
  },
  {
   "cell_type": "code",
   "execution_count": 8,
   "metadata": {},
   "outputs": [],
   "source": [
    "boot_out = bootstrap(normal_data, np.mean)"
   ]
  },
  {
   "cell_type": "code",
   "execution_count": 9,
   "metadata": {},
   "outputs": [
    {
     "data": {
      "text/plain": [
       "(array([ 1.,  0.,  1.,  0.,  5.,  4.,  9., 15., 19., 28., 42., 38., 28.,\n",
       "        38., 45., 45., 40., 38., 32., 31., 11., 10.,  7.,  6.,  3.,  3.,\n",
       "         0.,  0.,  0.,  1.]),\n",
       " array([3.11084657, 3.16340807, 3.21596957, 3.26853107, 3.32109257,\n",
       "        3.37365407, 3.42621557, 3.47877707, 3.53133857, 3.58390006,\n",
       "        3.63646156, 3.68902306, 3.74158456, 3.79414606, 3.84670756,\n",
       "        3.89926906, 3.95183056, 4.00439206, 4.05695356, 4.10951506,\n",
       "        4.16207656, 4.21463806, 4.26719956, 4.31976106, 4.37232256,\n",
       "        4.42488406, 4.47744556, 4.53000706, 4.58256856, 4.63513006,\n",
       "        4.68769156]),\n",
       " <a list of 30 Patch objects>)"
      ]
     },
     "execution_count": 9,
     "metadata": {},
     "output_type": "execute_result"
    },
    {
     "data": {
      "image/png": "[encoded data removed]",
      "text/plain": [
       "<Figure size 1200x500 with 2 Axes>"
      ]
     },
     "metadata": {},
     "output_type": "display_data"
    }
   ],
   "source": [
    "fig, axs = plt.subplots(ncols=2, figsize=(12,5))\n",
    "axs[0].set_xlabel('Data observation', fontsize=16)\n",
    "axs[1].set_xlabel('Mean estimate', fontsize=16)\n",
    "axs[0].set_ylabel('Count', fontsize=16)\n",
    "axs[0].hist(normal_data,bins=30,edgecolor='red', linewidth=2,color = \"grey\")\n",
    "axs[1].hist(boot_out,bins=30,edgecolor='blue', linewidth=2,color = \"grey\")"
   ]
  },
  {
   "cell_type": "markdown",
   "metadata": {},
   "source": [
    "Using the bootstrap output, you can compute the stiatistics (e.g., mean, standard deviation, quantiles) of the boostrap estimates."
   ]
  },
  {
   "cell_type": "code",
   "execution_count": 10,
   "metadata": {},
   "outputs": [
    {
     "name": "stdout",
     "output_type": "stream",
     "text": [
      "mean of the estimate 3.87\n",
      "sd of the estimate: 0.23 \n",
      "0.025-quantile of the estimate: 3.44 \n",
      "0.975-quantile of the estimate: 4.32 \n"
     ]
    }
   ],
   "source": [
    "print(\"mean of the estimate %.2f\" % np.mean(boot_out))\n",
    "print(\"sd of the estimate: %.2f \" % np.std(boot_out))\n",
    "print(\"0.025-quantile of the estimate: %.2f \" % np.quantile(boot_out, 0.025))\n",
    "print(\"0.975-quantile of the estimate: %.2f \" % np.quantile(boot_out, 0.975))"
   ]
  },
  {
   "cell_type": "markdown",
   "metadata": {},
   "source": [
    "## 2. Bootstrap for Model Validation "
   ]
  },
  {
   "cell_type": "markdown",
   "metadata": {},
   "source": [
    "### 2.1 Preliminaries"
   ]
  },
  {
   "cell_type": "markdown",
   "metadata": {},
   "source": [
    "#### 2.1.1 From Lab 7"
   ]
  },
  {
   "cell_type": "code",
   "execution_count": 11,
   "metadata": {},
   "outputs": [
    {
     "data": {
      "text/plain": [
       "((4239, 18), (1818, 18))"
      ]
     },
     "execution_count": 11,
     "metadata": {},
     "output_type": "execute_result"
    }
   ],
   "source": [
    "ctr = pd.read_csv(\"CTR.csv\")\n",
    "\n",
    "from sklearn.model_selection import train_test_split\n",
    "\n",
    "y = ctr['CTR']\n",
    "X = pd.get_dummies(ctr.drop(['CTR'], axis=1))\n",
    "\n",
    "X_train, X_test, y_train, y_test = train_test_split(X, y, test_size=0.3, random_state=88)\n",
    "X_train.shape, X_test.shape"
   ]
  },
  {
   "cell_type": "code",
   "execution_count": 12,
   "metadata": {},
   "outputs": [],
   "source": [
    "def OSR2(model, X_test, y_test, y_train):\n",
    "    \n",
    "    y_pred = model.predict(X_test)\n",
    "    SSE = np.sum((y_test - y_pred)**2)\n",
    "    SST = np.sum((y_test - np.mean(y_train))**2)\n",
    "                 \n",
    "    return (1 - SSE/SST)"
   ]
  },
  {
   "cell_type": "markdown",
   "metadata": {},
   "source": [
    "Note that we take the random forest model as an example; However, bootstrap for valiation can be applied to any trained model.\n",
    "\n",
    "Below, we train the random forest model, on the training data and with the best parameters found through cross-validation in Lab 7."
   ]
  },
  {
   "cell_type": "code",
   "execution_count": 13,
   "metadata": {},
   "outputs": [
    {
     "name": "stderr",
     "output_type": "stream",
     "text": [
      "[Parallel(n_jobs=1)]: Using backend SequentialBackend with 1 concurrent workers.\n",
      "[Parallel(n_jobs=1)]: Done 500 out of 500 | elapsed:   12.2s finished\n"
     ]
    },
    {
     "data": {
      "text/plain": [
       "RandomForestRegressor(max_features=11, min_samples_leaf=5, n_estimators=500,\n",
       "                      random_state=88, verbose=1)"
      ]
     },
     "execution_count": 13,
     "metadata": {},
     "output_type": "execute_result"
    }
   ],
   "source": [
    "from sklearn.ensemble import RandomForestRegressor\n",
    "\n",
    "rf = RandomForestRegressor(max_features=11, min_samples_leaf=5, \n",
    "                           n_estimators = 500, random_state=88, verbose=1)\n",
    "# Note: you can change the verbose parameter to control how much training progress is printed.\n",
    "rf.fit(X_train, y_train)"
   ]
  },
  {
   "cell_type": "code",
   "execution_count": 14,
   "metadata": {
    "scrolled": true
   },
   "outputs": [
    {
     "name": "stdout",
     "output_type": "stream",
     "text": [
      "OSR2: 0.56398\n"
     ]
    }
   ],
   "source": [
    "rf.verbose = False\n",
    "print('OSR2:', round(OSR2(rf, X_test, y_test, y_train), 5))"
   ]
  },
  {
   "cell_type": "markdown",
   "metadata": {},
   "source": [
    "#### 2.1.2 Define metrics functions"
   ]
  },
  {
   "cell_type": "code",
   "execution_count": 15,
   "metadata": {},
   "outputs": [],
   "source": [
    "def OS_R_squared(predictions, y_test,y_train):\n",
    "    SSE = np.sum((y_test-predictions)**2)\n",
    "    SST = np.sum((y_test-np.mean(y_train))**2)\n",
    "    r2 = 1-SSE/SST\n",
    "    return r2\n",
    "\n",
    "def mean_squared_error(predictions, y_test,y_train):\n",
    "    MSE = np.mean((y_test-predictions)**2)\n",
    "    return MSE\n",
    "\n",
    "def mean_absolute_error(predictions, y_test,y_train):\n",
    "    MAE = np.mean(np.abs(y_test-predictions))\n",
    "    return MAE"
   ]
  },
  {
   "cell_type": "markdown",
   "metadata": {},
   "source": [
    "#### 2.1.3 Sanity check"
   ]
  },
  {
   "cell_type": "code",
   "execution_count": 16,
   "metadata": {},
   "outputs": [
    {
     "name": "stdout",
     "output_type": "stream",
     "text": [
      "OSR2: 0.5639762833152002\n",
      "MSE: 0.0023534658642130326\n",
      "MAE: 0.0291244008514368\n"
     ]
    }
   ],
   "source": [
    "y_pred = rf.predict(X_test)\n",
    "print(\"OSR2: %s\" % OS_R_squared(y_pred,y_test,y_train))\n",
    "print(\"MSE: %s\" % mean_squared_error(y_pred,y_test,y_train))\n",
    "print(\"MAE: %s\" % mean_absolute_error(y_pred,y_test,y_train))"
   ]
  },
  {
   "cell_type": "code",
   "execution_count": 17,
   "metadata": {
    "scrolled": false
   },
   "outputs": [
    {
     "name": "stdout",
     "output_type": "stream",
     "text": [
      "OSR2: 0.5639762833152002\n",
      "MSE: 0.0023534658642130326\n",
      "MAE: 0.0291244008514368\n"
     ]
    }
   ],
   "source": [
    "print(\"OSR2: %s\" % OSR2(rf, X_test, y_test,y_train))\n",
    "print(\"MSE: %s\" % np.mean((y_pred-y_test)**2))\n",
    "print(\"MAE: %s\" % np.mean(np.abs(y_pred-y_test)))"
   ]
  },
  {
   "cell_type": "markdown",
   "metadata": {},
   "source": [
    "### 2.2 Boostrapping"
   ]
  },
  {
   "cell_type": "markdown",
   "metadata": {},
   "source": [
    "#### 2.2.1 Manually code the bootstrap method\n",
    "\n",
    "Again, below is a manual implementation of bootstrap for model valiation."
   ]
  },
  {
   "cell_type": "code",
   "execution_count": 33,
   "metadata": {},
   "outputs": [],
   "source": [
    "import time\n",
    "\n",
    "def bootstrap_validation(test_data, test_label, train_label, model, metrics_list, sample=500, random_state=66):\n",
    "    tic = time.time()\n",
    "    n_sample = sample\n",
    "    n_metrics = len(metrics_list)\n",
    "    output_array=np.zeros([n_sample, n_metrics])\n",
    "    output_array[:]=np.nan\n",
    "    print(output_array.shape)\n",
    "    for bs_iter in range(n_sample):\n",
    "        bs_index = np.random.choice(test_data.index, len(test_data.index), replace=True)\n",
    "        bs_data = test_data.loc[bs_index]\n",
    "        bs_label = test_label.loc[bs_index]\n",
    "        bs_predicted = model.predict(bs_data)\n",
    "        for metrics_iter in range(n_metrics):\n",
    "            metrics = metrics_list[metrics_iter]\n",
    "            output_array[bs_iter, metrics_iter]=metrics(bs_predicted,bs_label,train_label)\n",
    "#         if bs_iter % 100 == 0:\n",
    "#             print(bs_iter, time.time()-tic)\n",
    "    output_df = pd.DataFrame(output_array)\n",
    "    return output_df"
   ]
  },
  {
   "cell_type": "markdown",
   "metadata": {},
   "source": [
    "#### 2.2.2 Do bootstrap"
   ]
  },
  {
   "cell_type": "markdown",
   "metadata": {},
   "source": [
    "Note that here we use B = 5,000, instead of 10,000 as shown in the lecutre. Later, you will observe in the histogram that with this resampling size, the estimates of the metrics have already displayed the nice normal curve shape.\n",
    "\n",
    "The following code takes about 10 minutes to run. You might want to reduce the value of B for a trial run. However, B should not be too small; otherwise, the estimates may not converge to the standard normal distribution well."
   ]
  },
  {
   "cell_type": "code",
   "execution_count": 34,
   "metadata": {},
   "outputs": [
    {
     "name": "stdout",
     "output_type": "stream",
     "text": [
      "(5000, 3)\n"
     ]
    }
   ],
   "source": [
    "bs_output = bootstrap_validation(X_test,y_test,y_train,rf,\n",
    "                                 metrics_list=[OS_R_squared, mean_squared_error,mean_absolute_error],\n",
    "                                 sample = 5000)"
   ]
  },
  {
   "cell_type": "markdown",
   "metadata": {},
   "source": [
    "### 2.3 Visualization"
   ]
  },
  {
   "cell_type": "markdown",
   "metadata": {},
   "source": [
    "#### 2.3.1 Basic plot and centered plot"
   ]
  },
  {
   "cell_type": "code",
   "execution_count": 35,
   "metadata": {},
   "outputs": [
    {
     "data": {
      "text/plain": [
       "(-0.15, 0.15)"
      ]
     },
     "execution_count": 35,
     "metadata": {},
     "output_type": "execute_result"
    },
    {
     "data": {
      "image/png": "[encoded data removed]",
      "text/plain": [
       "<Figure size 1200x500 with 2 Axes>"
      ]
     },
     "metadata": {},
     "output_type": "display_data"
    }
   ],
   "source": [
    "test_OSR2 = OS_R_squared(y_pred,y_test,y_train)\n",
    "\n",
    "fig, axs = plt.subplots(ncols=2, figsize=(12,5))\n",
    "axs[0].set_xlabel('Bootstrap OSR2 Estimate', fontsize=16)\n",
    "axs[1].set_xlabel('Boot OSR2 - Test Set OSR2', fontsize=16)\n",
    "axs[0].set_ylabel('Count', fontsize=16)\n",
    "axs[0].hist(bs_output.iloc[:,0], bins=20,edgecolor='green', linewidth=2,color = \"grey\")\n",
    "axs[0].set_xlim([0.4,0.7])\n",
    "axs[1].hist(bs_output.iloc[:,0]-test_OSR2, bins=20,edgecolor='green', linewidth=2,color = \"grey\")\n",
    "axs[1].set_xlim([-0.15,0.15])"
   ]
  },
  {
   "cell_type": "markdown",
   "metadata": {},
   "source": [
    "#### 2.3.2 manual CI + plot"
   ]
  },
  {
   "cell_type": "code",
   "execution_count": 36,
   "metadata": {},
   "outputs": [
    {
     "name": "stdout",
     "output_type": "stream",
     "text": [
      "The 95-percent confidence interval of OSR2 is [-0.0781746   0.06285535]\n"
     ]
    }
   ],
   "source": [
    "# The 95% confidence interval\n",
    "CI= np.quantile(bs_output.iloc[:,0]-test_OSR2,np.array([0.025,0.975]))\n",
    "print(\"The 95-percent confidence interval of OSR2 is %s\" % CI)"
   ]
  },
  {
   "cell_type": "code",
   "execution_count": 37,
   "metadata": {},
   "outputs": [
    {
     "data": {
      "text/plain": [
       "<matplotlib.collections.LineCollection at 0x1d93a7a26a0>"
      ]
     },
     "execution_count": 37,
     "metadata": {},
     "output_type": "execute_result"
    },
    {
     "data": {
      "image/png": "[encoded data removed]",
      "text/plain": [
       "<Figure size 800x600 with 1 Axes>"
      ]
     },
     "metadata": {},
     "output_type": "display_data"
    }
   ],
   "source": [
    "fig, axs = plt.subplots(ncols=1, figsize=(8,6))\n",
    "axs.set_xlabel('Boot OSR2 - Test Set OSR2', fontsize=16)\n",
    "axs.set_ylabel('Count', fontsize=16)\n",
    "axs.hist(bs_output.iloc[:,0]-test_OSR2, bins=20,edgecolor='green', linewidth=2,color = \"grey\")\n",
    "axs.set_xlim([-0.15,0.15])\n",
    "axs.vlines(x=CI[0], ymin = 0, ymax =800, color = \"black\")\n",
    "axs.vlines(x=CI[1], ymin = 0, ymax =800, color = \"black\")"
   ]
  },
  {
   "cell_type": "markdown",
   "metadata": {},
   "source": [
    "### 2.4 Exercise"
   ]
  },
  {
   "cell_type": "markdown",
   "metadata": {},
   "source": [
    "Try to re-do this exercise with another models that we did in Lab 7, e.g., linear regression, decision tree, and bagging"
   ]
  },
  {
   "cell_type": "code",
   "execution_count": null,
   "metadata": {},
   "outputs": [],
   "source": []
  }
 ],
 "metadata": {
  "kernelspec": {
   "display_name": "Python 3 (ipykernel)",
   "language": "python",
   "name": "python3"
  },
  "language_info": {
   "codemirror_mode": {
    "name": "ipython",
    "version": 3
   },
   "file_extension": ".py",
   "mimetype": "text/x-python",
   "name": "python",
   "nbconvert_exporter": "python",
   "pygments_lexer": "ipython3",
   "version": "3.7.4"
  }
 },
 "nbformat": 4,
 "nbformat_minor": 4
}
